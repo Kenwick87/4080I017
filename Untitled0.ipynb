{
  "nbformat": 4,
  "nbformat_minor": 0,
  "metadata": {
    "colab": {
      "name": "Untitled0.ipynb",
      "provenance": [],
      "include_colab_link": true
    },
    "kernelspec": {
      "name": "python3",
      "display_name": "Python 3"
    }
  },
  "cells": [
    {
      "cell_type": "markdown",
      "metadata": {
        "id": "view-in-github",
        "colab_type": "text"
      },
      "source": [
        "<a href=\"https://colab.research.google.com/github/Kenwick87/4080I017/blob/master/Untitled0.ipynb\" target=\"_parent\"><img src=\"https://colab.research.google.com/assets/colab-badge.svg\" alt=\"Open In Colab\"/></a>"
      ]
    },
    {
      "cell_type": "code",
      "metadata": {
        "id": "Poy6g1CBLLzK",
        "colab_type": "code",
        "colab": {
          "base_uri": "https://localhost:8080/",
          "height": 131
        },
        "outputId": "b0457518-f8f6-47a6-dff0-0c7531518c67"
      },
      "source": [
        "1.print(\"3*2*(17-2)\")會印出甚麼結果:\n",
        "(A)0   (B)90  (C)出現錯誤,無法印出  (D)3*2*(17-2)\n",
        "\n",
        "2.print(3*2*(17-2))會印出甚麼結果:\n",
        "(A)0   (B)90  (C)出現錯誤,無法印出  (D)3*2*(17-2)\n",
        "\n",
        "3.print(\"abc\"\"+\"\"def\")會印出甚麼結果:\n",
        "(A)出現錯誤,無法印出   (B)abc+def  (C)abc\"\"+\"\"def  (D)abcdef\n",
        "\n",
        "4.print(\"abc\"+\"def\")會印出甚麼結果:\n",
        "(A)出現錯誤,無法印出   (B)abc+def  (C)abc\"\"+\"\"def  (D)abcdef\n",
        "\n",
        "5.底下程式執行後結果為何?\n",
        "word = \"arttarataaa\"\n",
        "print(word.replace(\"a\", \"z\",3))\n",
        "(A)出現錯誤,無法印出   (B)arttarataaa  (C)zrttzrztaaa (D)zrttzrztzzz\n",
        "\n",
        "6.底下程式執行後結果為何?\n",
        "word = \"arttarataaa\"\n",
        "print(word.replace(\"a\", \"z\"))\n",
        "(A)出現錯誤,無法印出   (B)arttarataaa  (C)zrttzrztaaa (D)zrttzrztzzz\n",
        "\n",
        "7根據底下程式,下列敘述何者為非?[複選題]\n",
        "\n",
        "names = ['龍', '聖']\n",
        "index = 0\n",
        "\n",
        "while index < len(names):\n",
        "    name = names[index]\n",
        "    print(name)\n",
        "    index = index + 1\n",
        "    \n",
        "(A)len(names)=2  \n",
        "(B)names[1]是 龍 \n",
        "(C)程式執行完後,index最後為2\n",
        "(D)如果把條件改成 index > len(names),中index最後為2"
      ],
      "execution_count": 1,
      "outputs": [
        {
          "output_type": "error",
          "ename": "SyntaxError",
          "evalue": "ignored",
          "traceback": [
            "\u001b[0;36m  File \u001b[0;32m\"<ipython-input-1-2466ba0a81b6>\"\u001b[0;36m, line \u001b[0;32m1\u001b[0m\n\u001b[0;31m    1.print(\"3*2*(17-2)\")會印出甚麼結果:\u001b[0m\n\u001b[0m          ^\u001b[0m\n\u001b[0;31mSyntaxError\u001b[0m\u001b[0;31m:\u001b[0m invalid syntax\n"
          ]
        }
      ]
    },
    {
      "cell_type": "code",
      "metadata": {
        "id": "y9sQsdYXVzaw",
        "colab_type": "code",
        "colab": {
          "base_uri": "https://localhost:8080/",
          "height": 131
        },
        "outputId": "48bcc6a4-b5ee-4657-e1a0-097d8be2af1d"
      },
      "source": [
        "for 迴圈(loop)的技巧\n",
        "1.使用for 迴圈(loop)計算1+2+3+.....100\n",
        "2.使用for 迴圈(loop)計算1+3+5+7.....+99\n",
        "3.使用for 迴圈(loop)計算1*3*5*7.....*99\n",
        "\n",
        "while 迴圈(loop)的技巧\n",
        "4.使用while 迴圈(loop)計算1+2+3+.....100\n",
        "5.使用while 迴圈(loop)計算1+3+5+7.....+99\n",
        "6.使用while 迴圈(loop計算1*3*5*7.....*99"
      ],
      "execution_count": 2,
      "outputs": [
        {
          "output_type": "error",
          "ename": "SyntaxError",
          "evalue": "ignored",
          "traceback": [
            "\u001b[0;36m  File \u001b[0;32m\"<ipython-input-2-33c338a7d471>\"\u001b[0;36m, line \u001b[0;32m1\u001b[0m\n\u001b[0;31m    for 迴圈(loop)的技巧\u001b[0m\n\u001b[0m                  ^\u001b[0m\n\u001b[0;31mSyntaxError\u001b[0m\u001b[0;31m:\u001b[0m invalid syntax\n"
          ]
        }
      ]
    },
    {
      "cell_type": "code",
      "metadata": {
        "id": "EMFgpR1gV66Z",
        "colab_type": "code",
        "colab": {
          "base_uri": "https://localhost:8080/",
          "height": 34
        },
        "outputId": "84002a9d-a998-4db4-e865-0e2b770a2e7f"
      },
      "source": [
        "sum=0\n",
        "\n",
        "for x in range(1,101):\n",
        "  sum +=x\n",
        "  \n",
        "print(sum)"
      ],
      "execution_count": 3,
      "outputs": [
        {
          "output_type": "stream",
          "text": [
            "5050\n"
          ],
          "name": "stdout"
        }
      ]
    },
    {
      "cell_type": "code",
      "metadata": {
        "id": "3wUdMpG2V7K6",
        "colab_type": "code",
        "colab": {
          "base_uri": "https://localhost:8080/",
          "height": 34
        },
        "outputId": "a5a6d038-416c-4ab6-c1f2-c2bac599a7bf"
      },
      "source": [
        "sum=0\n",
        "\n",
        "for x in range(1,101,2):\n",
        "  sum +=x\n",
        "  \n",
        "print(sum)"
      ],
      "execution_count": 4,
      "outputs": [
        {
          "output_type": "stream",
          "text": [
            "2500\n"
          ],
          "name": "stdout"
        }
      ]
    },
    {
      "cell_type": "code",
      "metadata": {
        "id": "15gUwi0mWE3S",
        "colab_type": "code",
        "colab": {
          "base_uri": "https://localhost:8080/",
          "height": 131
        },
        "outputId": "3939e7e3-6b93-4194-f467-8b00744ef778"
      },
      "source": [
        "1*3*5*7.....*99\n",
        "total=1\n",
        "\n",
        "for x in range(1,101,2):\n",
        "  total *=x\n",
        "  \n",
        "print(total)"
      ],
      "execution_count": 5,
      "outputs": [
        {
          "output_type": "error",
          "ename": "SyntaxError",
          "evalue": "ignored",
          "traceback": [
            "\u001b[0;36m  File \u001b[0;32m\"<ipython-input-5-4a8e51e2c3ca>\"\u001b[0;36m, line \u001b[0;32m1\u001b[0m\n\u001b[0;31m    1*3*5*7.....*99\u001b[0m\n\u001b[0m              ^\u001b[0m\n\u001b[0;31mSyntaxError\u001b[0m\u001b[0;31m:\u001b[0m invalid syntax\n"
          ]
        }
      ]
    },
    {
      "cell_type": "code",
      "metadata": {
        "id": "kQp26S_DWJjK",
        "colab_type": "code",
        "colab": {
          "base_uri": "https://localhost:8080/",
          "height": 34
        },
        "outputId": "ce8e7be6-eefa-4685-bdfd-accfacc0281a"
      },
      "source": [
        "sum = 0\n",
        "x=1\n",
        "\n",
        "while x < 101:\n",
        "  sum +=x\n",
        "  x = x+1\n",
        "  # x += 1\n",
        "  \n",
        "print(sum)"
      ],
      "execution_count": 6,
      "outputs": [
        {
          "output_type": "stream",
          "text": [
            "5050\n"
          ],
          "name": "stdout"
        }
      ]
    },
    {
      "cell_type": "code",
      "metadata": {
        "id": "ar0D2tqIWJto",
        "colab_type": "code",
        "colab": {}
      },
      "source": [
        "sum = 0\n",
        "x=1\n",
        "\n",
        "while x < 101:\n",
        "  sum +=x\n",
        "  x = x+2\n",
        "  # x += 1"
      ],
      "execution_count": 0,
      "outputs": []
    }
  ]
}